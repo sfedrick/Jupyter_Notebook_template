{
 "cells": [
  {
   "cell_type": "markdown",
   "id": "5a62ace1",
   "metadata": {},
   "source": [
    "You are given an array prices where prices[i] is the price of a given stock on the ith day.\n",
    "\n",
    "You want to maximize your profit by choosing a single day to buy one stock and choosing a different day in the future to sell that stock.\n",
    "\n",
    "Return the maximum profit you can achieve from this transaction. If you cannot achieve any profit, return 0."
   ]
  },
  {
   "cell_type": "code",
   "execution_count": 5,
   "id": "e3ce4cc8",
   "metadata": {},
   "outputs": [
    {
     "name": "stdout",
     "output_type": "stream",
     "text": [
      "1\n"
     ]
    }
   ],
   "source": [
    "import numpy as np\n",
    "nums = [1,2,3,4]\n",
    "i = 3\n",
    "print(max([x-i for x in nums]))"
   ]
  },
  {
   "cell_type": "markdown",
   "id": "0879bca8",
   "metadata": {},
   "source": [
    "we can check for every max value but this can prove to be too slow "
   ]
  },
  {
   "cell_type": "code",
   "execution_count": 7,
   "id": "645b188f",
   "metadata": {},
   "outputs": [],
   "source": [
    "from typing import List\n",
    "class Solution:\n",
    "    def maxProfit(self, prices: List[int]) -> int:\n",
    "        maxval = 0\n",
    "        for i,val in enumerate(prices):\n",
    "            newmax = max([x-val for x in prices[i:]])\n",
    "            if(newmax >maxval):\n",
    "                maxval = newmax\n",
    "        return maxval\n",
    "            "
   ]
  },
  {
   "cell_type": "code",
   "execution_count": 9,
   "id": "79cbc4e2",
   "metadata": {},
   "outputs": [
    {
     "name": "stdout",
     "output_type": "stream",
     "text": [
      "example output:\n"
     ]
    },
    {
     "data": {
      "text/plain": [
       "5"
      ]
     },
     "execution_count": 9,
     "metadata": {},
     "output_type": "execute_result"
    }
   ],
   "source": [
    "print(\"example output:\")\n",
    "Solution.maxProfit(Solution,[7,1,5,3,6,4])"
   ]
  },
  {
   "cell_type": "markdown",
   "id": "5cd465f6",
   "metadata": {},
   "source": [
    "instead of checking the max every time we can just keep track of the smallest buy available and update the smallest value when we find a new small val."
   ]
  },
  {
   "cell_type": "code",
   "execution_count": 10,
   "id": "47185f9b",
   "metadata": {},
   "outputs": [],
   "source": [
    "from typing import List\n",
    "class Solution:\n",
    "    def maxProfit(self, prices: List[int]) -> int:\n",
    "        maxval = 0\n",
    "        smallest = prices[0]\n",
    "        for i,val in enumerate(prices[1:]):\n",
    "            newmax = val - smallest\n",
    "            if(newmax >maxval):\n",
    "                maxval = newmax\n",
    "            if(smallest>val):\n",
    "                smallest = val\n",
    "        return maxval\n",
    "            "
   ]
  },
  {
   "cell_type": "code",
   "execution_count": 11,
   "id": "75d2c487",
   "metadata": {},
   "outputs": [
    {
     "name": "stdout",
     "output_type": "stream",
     "text": [
      "example output:\n"
     ]
    },
    {
     "data": {
      "text/plain": [
       "5"
      ]
     },
     "execution_count": 11,
     "metadata": {},
     "output_type": "execute_result"
    }
   ],
   "source": [
    "print(\"example output:\")\n",
    "Solution.maxProfit(Solution,[7,1,5,3,6,4])"
   ]
  },
  {
   "cell_type": "code",
   "execution_count": null,
   "id": "8130f308",
   "metadata": {},
   "outputs": [],
   "source": []
  }
 ],
 "metadata": {
  "kernelspec": {
   "display_name": "Python 3 (ipykernel)",
   "language": "python",
   "name": "python3"
  },
  "language_info": {
   "codemirror_mode": {
    "name": "ipython",
    "version": 3
   },
   "file_extension": ".py",
   "mimetype": "text/x-python",
   "name": "python",
   "nbconvert_exporter": "python",
   "pygments_lexer": "ipython3",
   "version": "3.10.6"
  }
 },
 "nbformat": 4,
 "nbformat_minor": 5
}
