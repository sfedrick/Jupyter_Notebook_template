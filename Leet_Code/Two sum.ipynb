{
 "cells": [
  {
   "cell_type": "markdown",
   "id": "7671e2de",
   "metadata": {},
   "source": [
    "https://leetcode.com/problems/two-sum/"
   ]
  },
  {
   "cell_type": "markdown",
   "id": "d63cd0a2",
   "metadata": {},
   "source": [
    "Given an array of integers nums and an integer target, return indices of the two numbers such that they add up to target.\n",
    "\n",
    "You may assume that each input would have exactly one solution, and you may not use the same element twice.\n",
    "\n",
    "You can return the answer in any order.\n",
    "\n",
    " \n",
    "\n",
    "Example 1:\n",
    "\n",
    "Input: nums = [2,7,11,15], target = 9\n",
    "Output: [0,1]\n",
    "Explanation: Because nums[0] + nums[1] == 9, we return [0, 1].\n",
    "Example 2:\n",
    "\n",
    "Input: nums = [3,2,4], target = 6\n",
    "Output: [1,2]\n",
    "Example 3:\n",
    "\n",
    "Input: nums = [3,3], target = 6\n",
    "Output: [0,1]\n",
    " \n",
    "\n",
    "Constraints:\n",
    "\n",
    "2 <= nums.length <= 104\n",
    "-109 <= nums[i] <= 109\n",
    "-109 <= target <= 109\n",
    "Only one valid answer exists."
   ]
  },
  {
   "cell_type": "markdown",
   "id": "fcaf8225",
   "metadata": {},
   "source": [
    "Niave solution just checking every combination until I find the target"
   ]
  },
  {
   "cell_type": "code",
   "execution_count": 34,
   "id": "decae5cd",
   "metadata": {},
   "outputs": [],
   "source": [
    "from typing import List\n",
    "class Solution:\n",
    "    def twoSum(self, nums: List[int], target: int) -> List[int]:\n",
    "        for i, val1 in enumerate(nums):\n",
    "            for j,val2 in enumerate(nums[i+1:]):\n",
    "                if((val1+val2)==target):\n",
    "                    print(val1)\n",
    "                    print(val2)\n",
    "                    return [i,j+i+1]       \n",
    "        return [-1,-1]"
   ]
  },
  {
   "cell_type": "code",
   "execution_count": 39,
   "id": "f6d20681",
   "metadata": {},
   "outputs": [
    {
     "name": "stdout",
     "output_type": "stream",
     "text": [
      "example output:\n",
      "2\n",
      "4\n"
     ]
    },
    {
     "data": {
      "text/plain": [
       "[1, 2]"
      ]
     },
     "execution_count": 39,
     "metadata": {},
     "output_type": "execute_result"
    }
   ],
   "source": [
    "print(\"example output:\")\n",
    "Solution.twoSum(Solution,[3,2,4],6)"
   ]
  },
  {
   "cell_type": "markdown",
   "id": "f2c0b3d2",
   "metadata": {},
   "source": [
    "A better way to solve this is with a hashmap python has prebuilt hashmaps in the form of dictionaries. We really only need to know if search,target - current number,is present so we use key value pairs to accomplish this."
   ]
  },
  {
   "cell_type": "code",
   "execution_count": 61,
   "id": "e7953efc",
   "metadata": {},
   "outputs": [],
   "source": [
    "from typing import List\n",
    "class Solution:\n",
    "    def twoSum(self, nums: List[int], target: int) -> List[int]:\n",
    "        Dict = {}\n",
    "        for i, val in enumerate(nums):\n",
    "            search = target - val\n",
    "            if(Dict.__contains__(search)):\n",
    "                return([Dict[search],i])\n",
    "            Dict[val] = i;\n",
    "                  \n",
    "        return [-1,-1]"
   ]
  },
  {
   "cell_type": "code",
   "execution_count": 62,
   "id": "42d952d0",
   "metadata": {},
   "outputs": [
    {
     "name": "stdout",
     "output_type": "stream",
     "text": [
      "example output:\n"
     ]
    },
    {
     "data": {
      "text/plain": [
       "[1, 2]"
      ]
     },
     "execution_count": 62,
     "metadata": {},
     "output_type": "execute_result"
    }
   ],
   "source": [
    "print(\"example output:\")\n",
    "Solution.twoSum(Solution,[3,2,4],6)\n"
   ]
  }
 ],
 "metadata": {
  "kernelspec": {
   "display_name": "Python 3 (ipykernel)",
   "language": "python",
   "name": "python3"
  },
  "language_info": {
   "codemirror_mode": {
    "name": "ipython",
    "version": 3
   },
   "file_extension": ".py",
   "mimetype": "text/x-python",
   "name": "python",
   "nbconvert_exporter": "python",
   "pygments_lexer": "ipython3",
   "version": "3.10.6"
  }
 },
 "nbformat": 4,
 "nbformat_minor": 5
}
